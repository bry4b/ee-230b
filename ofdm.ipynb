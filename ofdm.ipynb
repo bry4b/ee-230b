{
 "cells": [
  {
   "cell_type": "markdown",
   "id": "56beca16",
   "metadata": {},
   "source": [
    "### OFDM on SDRs"
   ]
  },
  {
   "cell_type": "code",
   "execution_count": null,
   "id": "bdd95b11",
   "metadata": {},
   "outputs": [
    {
     "ename": "",
     "evalue": "",
     "output_type": "error",
     "traceback": [
      "\u001b[1;31mRunning cells with 'base (Python 3.12.10)' requires the ipykernel package.\n",
      "\u001b[1;31m<a href='command:jupyter.createPythonEnvAndSelectController'>Create a Python Environment</a> with the required packages."
     ]
    }
   ],
   "source": [
    "import numpy as np\n",
    "import matplotlib.pyplot as plt\n",
    "import scipy.signal as signal\n",
    "import commpy.filters as filters"
   ]
  },
  {
   "cell_type": "code",
   "execution_count": null,
   "id": "f9dd05d0",
   "metadata": {},
   "outputs": [],
   "source": []
  }
 ],
 "metadata": {
  "kernelspec": {
   "display_name": "base",
   "language": "python",
   "name": "python3"
  },
  "language_info": {
   "name": "python",
   "version": "3.12.10"
  }
 },
 "nbformat": 4,
 "nbformat_minor": 5
}
